{
 "cells": [
  {
   "cell_type": "markdown",
   "metadata": {},
   "source": [
    "## Crew swapping optimization\n",
    "\n",
    "\n",
    "### The solution uses a heuristics based approach to optimize crew swapping during reassignments due to flight delays.\n",
    "\n",
    "This sample notebook shows you how to deploy Airline Crew Scheduling using Amazon SageMaker.\n",
    "\n",
    "> **Note**: This is a reference notebook and it cannot run unless you make changes suggested in the notebook.\n",
    "\n",
    "#### Pre-requisites:\n",
    "1. **Note**: This notebook contains elements which render correctly in Jupyter interface. Open this notebook from an Amazon SageMaker Notebook Instance or Amazon SageMaker Studio.\n",
    "1. Ensure that IAM role used has **AmazonSageMakerFullAccess**\n",
    "1. To deploy this ML model successfully, ensure that:\n",
    "    1. Either your IAM role has these three permissions and you have authority to make AWS Marketplace subscriptions in the AWS account used: \n",
    "        1. **aws-marketplace:ViewSubscriptions**\n",
    "        1. **aws-marketplace:Unsubscribe**\n",
    "        1. **aws-marketplace:Subscribe**  \n",
    "    2. or your AWS account has a subscription to Airline Crew Scheduling. If so, skip step: [Subscribe to the model package](#1.-Subscribe-to-the-model-package)\n",
    "\n",
    "#### Contents:\n",
    "1. [Subscribe to the model package](#1.-Subscribe-to-the-model-package)\n",
    "2. [Create an endpoint and perform real-time inference](#2.-Create-an-endpoint-and-perform-real-time-inference)\n",
    "   1. [Create an endpoint](#A.-Create-an-endpoint)\n",
    "   2. [Create input payload](#B.-Create-input-payload)\n",
    "   3. [Perform real-time inference](#C.-Perform-real-time-inference)\n",
    "   4. [Visualize output](#D.-Visualize-output)\n",
    "   5. [Delete the endpoint](#E.-Delete-the-endpoint)\n",
    "3. [Perform batch inference](#3.-Perform-batch-inference) \n",
    "4. [Clean-up](#4.-Clean-up)\n",
    "    1. [Delete the model](#A.-Delete-the-model)\n",
    "    2. [Unsubscribe to the listing (optional)](#B.-Unsubscribe-to-the-listing-(optional))\n",
    "    \n",
    "\n",
    "#### Usage instructions\n",
    "You can run this notebook one cell at a time (By using Shift+Enter for running a cell)."
   ]
  },
  {
   "cell_type": "markdown",
   "metadata": {},
   "source": [
    "### 1. Subscribe to the model package"
   ]
  },
  {
   "cell_type": "markdown",
   "metadata": {},
   "source": [
    "To subscribe to the model package:\n",
    "1. Open the model package listing page Product Review Aspect Detection: Routers. \n",
    "1. On the AWS Marketplace listing, click on the **Continue to subscribe** button.\n",
    "1. On the **Subscribe to this software** page, review and click on **\"Accept Offer\"** if you and your organization agrees with EULA, pricing, and support terms. \n",
    "1. Once you click on **Continue to configuration button** and then choose a **region**, you will see a **Product Arn** displayed. This is the model package ARN that you need to specify while creating a deployable model using Boto3. Copy the ARN corresponding to your region and specify the same in the following cell."
   ]
  },
  {
   "cell_type": "code",
   "execution_count": 1,
   "metadata": {},
   "outputs": [],
   "source": [
    "model_package_arn='arn:aws:sagemaker:us-east-2:786796469737:model-package/crew-swapping'"
   ]
  },
  {
   "cell_type": "code",
   "execution_count": 2,
   "metadata": {},
   "outputs": [],
   "source": [
    "import base64\n",
    "import json \n",
    "import uuid\n",
    "from sagemaker import ModelPackage\n",
    "import sagemaker as sage\n",
    "from sagemaker import get_execution_role\n",
    "from sagemaker import ModelPackage\n",
    "from urllib.parse import urlparse\n",
    "import boto3\n",
    "from IPython.display import Image\n",
    "from PIL import Image as ImageEdit\n",
    "import urllib.request\n",
    "import numpy as np"
   ]
  },
  {
   "cell_type": "code",
   "execution_count": 3,
   "metadata": {},
   "outputs": [
    {
     "data": {
      "text/plain": [
       "'sagemaker-us-east-2-786796469737'"
      ]
     },
     "execution_count": 3,
     "metadata": {},
     "output_type": "execute_result"
    }
   ],
   "source": [
    "role = get_execution_role()\n",
    "\n",
    "sagemaker_session = sage.Session()\n",
    "\n",
    "bucket=sagemaker_session.default_bucket()\n",
    "bucket"
   ]
  },
  {
   "cell_type": "markdown",
   "metadata": {},
   "source": [
    "### 2. Create an endpoint and perform real-time inference"
   ]
  },
  {
   "cell_type": "markdown",
   "metadata": {},
   "source": [
    "If you want to understand how real-time inference with Amazon SageMaker works, see [Documentation](https://docs.aws.amazon.com/sagemaker/latest/dg/how-it-works-hosting.html)."
   ]
  },
  {
   "cell_type": "code",
   "execution_count": 4,
   "metadata": {},
   "outputs": [],
   "source": [
    "model_name='crew-swapping'\n",
    "\n",
    "content_type='application/zip'\n",
    "\n",
    "real_time_inference_instance_type='ml.m5.large'\n",
    "batch_transform_inference_instance_type='ml.m5.large'"
   ]
  },
  {
   "cell_type": "markdown",
   "metadata": {},
   "source": [
    "#### A. Create an endpoint"
   ]
  },
  {
   "cell_type": "code",
   "execution_count": 5,
   "metadata": {},
   "outputs": [
    {
     "name": "stdout",
     "output_type": "stream",
     "text": [
      "----!"
     ]
    }
   ],
   "source": [
    "\n",
    "def predict_wrapper(endpoint, session):\n",
    "    return sage.predictor.Predictor(endpoint, session,content_type)\n",
    "\n",
    "#create a deployable model from the model package.\n",
    "model = ModelPackage(role=role,\n",
    "                    model_package_arn=model_package_arn,\n",
    "                    sagemaker_session=sagemaker_session,\n",
    "                    predictor_cls=predict_wrapper)\n",
    "\n",
    "#Deploy the model\n",
    "predictor = model.deploy(1, real_time_inference_instance_type, endpoint_name=model_name)"
   ]
  },
  {
   "cell_type": "markdown",
   "metadata": {},
   "source": [
    "Once endpoint has been created, you would be able to perform real-time inference."
   ]
  },
  {
   "cell_type": "markdown",
   "metadata": {},
   "source": [
    "#### B. Create input payload"
   ]
  },
  {
   "cell_type": "code",
   "execution_count": 6,
   "metadata": {},
   "outputs": [],
   "source": [
    "file_name = 'input/input.zip'"
   ]
  },
  {
   "cell_type": "markdown",
   "metadata": {},
   "source": [
    "<Add code snippet that shows the payload contents>"
   ]
  },
  {
   "cell_type": "markdown",
   "metadata": {},
   "source": [
    "#### C. Perform real-time inference"
   ]
  },
  {
   "cell_type": "code",
   "execution_count": 7,
   "metadata": {},
   "outputs": [
    {
     "name": "stdout",
     "output_type": "stream",
     "text": [
      "{\r\n",
      "    \"ContentType\": \"application/json\",\r\n",
      "    \"InvokedProductionVariant\": \"AllTraffic\"\r\n",
      "}\r\n"
     ]
    }
   ],
   "source": [
    "!aws sagemaker-runtime invoke-endpoint \\\n",
    "    --endpoint-name $model_name \\\n",
    "    --body fileb://$file_name \\\n",
    "    --content-type $content_type \\\n",
    "    --region $sagemaker_session.boto_region_name \\\n",
    "    output.txt"
   ]
  },
  {
   "cell_type": "markdown",
   "metadata": {},
   "source": [
    "#### D. Visualize output"
   ]
  },
  {
   "cell_type": "code",
   "execution_count": 8,
   "metadata": {},
   "outputs": [
    {
     "name": "stdout",
     "output_type": "stream",
     "text": [
      "{'BASE1': {'c1': ['p190', 'p110', 'p258', 'p141', 'p180', 'p9', 'p210', 'p227', 'p245', 'p3', 'p181', 'p34', 'p285', 'p294', 'p75', 'p155'], 'c10': ['p40', 'p217', 'p108', 'p142', 'p203', 'p100', 'p279', 'p226', 'p248', 'p11', 'p254', 'p2', 'p250', 'p290', 'p287', 'p295', 'p74', 'p156'], 'c2': ['p189', 'p42', 'p143', 'p139', 'p99', 'p179', 'p278', 'p25', 'p209', 'p225', 'p246', 'p230', 'p12', 'p253', 'p94', 'p249', 'p284', 'p154'], 'c3': ['p188', 'p218', 'p109', 'p140', 'p204', 'p8', 'p288', 'p26', 'p211', 'p231', 'p255', 'p4', 'p182', 'p93', 'p251', 'p33', 'p286', 'p293', 'p73', 'p153'], 'c4': ['p188', 'p218', 'p109', 'p140', 'p204', 'p8', 'p288', 'p26', 'p211', 'p231', 'p255', 'p4', 'p182', 'p93', 'p251', 'p33', 'p286', 'p293', 'p73', 'p153'], 'c5': ['p190', 'p110', 'p258', 'p141', 'p180', 'p9', 'p210', 'p227', 'p245', 'p3', 'p181', 'p34', 'p285', 'p294', 'p75', 'p155'], 'c6': ['p187', 'p41', 'p219', 'p138', 'p202', 'p98', 'p178', 'p7', 'p10', 'p27', 'p247', 'p232', 'p252', 'p183', 'p95', 'p289', 'p296', 'p72'], 'c7': ['p40', 'p217', 'p108', 'p142', 'p203', 'p100', 'p279', 'p226', 'p248', 'p11', 'p254', 'p2', 'p250', 'p290', 'p287', 'p295', 'p74', 'p156'], 'c8': ['p187', 'p41', 'p219', 'p138', 'p202', 'p98', 'p178', 'p7', 'p10', 'p27', 'p247', 'p232', 'p252', 'p183', 'p95', 'p289', 'p296', 'p72'], 'c9': ['p189', 'p42', 'p143', 'p139', 'p99', 'p179', 'p278', 'p25', 'p209', 'p225', 'p246', 'p230', 'p12', 'p253', 'p94', 'p249', 'p284', 'p154']}, 'BASE2': {'c11': ['p164', 'p166', 'p46', 'p186', 'p243', 'p257', 'p158', 'p144', 'p152', 'p56', 'p150', 'p172', 'p147', 'p70', 'p101'], 'c12': ['p164', 'p47', 'p97', 'p257', 'p157', 'p237', 'p144', 'p151', 'p126', 'p87', 'p56', 'p149', 'p234', 'p147', 'p71', 'p101'], 'c13': ['p44', 'p184', 'p96', 'p229', 'p5', 'p58', 'p238', 'p127', 'p150', 'p173', 'p282', 'p297'], 'c14': ['p45', 'p186', 'p229', 'p281', 'p158', 'p238', 'p127', 'p57', 'p282', 'p298', 'p1', 'p102'], 'c15': ['p45', 'p184', 'p96', 'p228', 'p244', 'p58', 'p146', 'p291', 'p173', 'p283', 'p235', 'p70', 'p102'], 'c16': ['p44', 'p166', 'p46', 'p18', 'p244', 'p6', 'p59', 'p145', 'p126', 'p86', 'p292', 'p172', 'p233', 'p71', 'p148'], 'c17': ['p43', 'p165', 'p185', 'p18', 'p256', 'p280', 'p6', 'p157', 'p151', 'p86', 'p291', 'p149', 'p235', 'p297'], 'c18': ['p43', 'p185', 'p97', 'p280', 'p5', 'p59', 'p146', 'p87', 'p292', 'p283', 'p236', 'p233', 'p1'], 'c19': ['p165', 'p47', 'p228', 'p243', 'p256', 'p281', 'p237', 'p145', 'p152', 'p57', 'p236', 'p234', 'p298', 'p148']}, 'BASE3': {'c20': ['p241', 'p88', 'p39', 'p201', 'p259', 'p223', 'p213', 'p274', 'p103', 'p62', 'p67', 'p128', 'p111', 'p137', 'p122', 'p266', 'p162', 'p174', 'p48', 'p55', 'p195', 'p20'], 'c21': ['p32', 'p90', 'p35', 'p78', 'p215', 'p273', 'p64', 'p65', 'p83', 'p114', 'p208', 'p267', 'p269', 'p177', 'p54', 'p299', 'p19'], 'c22': ['p239', 'p91', 'p15', 'p198', 'p79', 'p222', 'p274', 'p107', 'p118', 'p82', 'p131', 'p133', 'p206', 'p263', 'p163', 'p50', 'p195', 'p23'], 'c23': ['p28', 'p14', 'p200', 'p260', 'p224', 'p214', 'p171', 'p61', 'p120', 'p84', 'p112', 'p137', 'p121', 'p264', 'p163', 'p177', 'p52', 'p300', 'p196', 'p23'], 'c24': ['p240', 'p30', 'p16', 'p36', 'p262', 'p76', 'p213', 'p167', 'p104', 'p63', 'p66', 'p128', 'p111', 'p136', 'p121', 'p265', 'p270', 'p48', 'p301', 'p192', 'p22'], 'c25': ['p32', 'p92', 'p15', 'p197', 'p79', 'p223', 'p214', 'p169', 'p105', 'p116', 'p66', 'p85', 'p130', 'p133', 'p208', 'p266', 'p268', 'p176', 'p52', 'p302', 'p192', 'p21'], 'c26': ['p239', 'p92', 'p14', 'p35', 'p76', 'p212', 'p168', 'p105', 'p117', 'p68', 'p129', 'p115', 'p205', 'p125', 'p161', 'p174', 'p53', 'p303', 'p191'], 'c27': ['p31', 'p88', 'p13', 'p200', 'p261', 'p221', 'p277', 'p168', 'p104', 'p64', 'p118', 'p81', 'p83', 'p115', 'p136', 'p207', 'p263', 'p159', 'p271', 'p53', 'p300', 'p194', 'p20'], 'c28': ['p241', 'p89', 'p38', 'p197', 'p80', 'p221', 'p212', 'p167', 'p107', 'p119', 'p81', 'p132', 'p124', 'p160', 'p271', 'p51', 'p24'], 'c29': ['p31', 'p90', 'p37', 'p261', 'p220', 'p276', 'p169', 'p106', 'p116', 'p69', 'p130', 'p135', 'p123', 'p159', 'p272', 'p49', 'p302', 'p191'], 'c30': ['p242', 'p29', 'p16', 'p38', 'p201', 'p260', 'p77', 'p215', 'p276', 'p170', 'p106', 'p63', 'p65', 'p82', 'p132', 'p125', 'p162', 'p175', 'p55', 'p194', 'p21'], 'c31': ['p240', 'p91', 'p17', 'p36', 'p198', 'p259', 'p224', 'p216', 'p273', 'p62', 'p68', 'p84', 'p113', 'p134', 'p207', 'p264', 'p161', 'p270', 'p49', 'p301', 'p196', 'p19'], 'c32': ['p29', 'p89', 'p39', 'p199', 'p78', 'p220', 'p277', 'p170', 'p60', 'p117', 'p69', 'p131', 'p114', 'p205', 'p122', 'p265', 'p272', 'p50', 'p299', 'p24'], 'c33': ['p242', 'p30', 'p17', 'p37', 'p262', 'p80', 'p222', 'p275', 'p171', 'p60', 'p120', 'p85', 'p113', 'p135', 'p124', 'p267', 'p268', 'p175', 'p54', 'p303', 'p193'], 'c34': ['p28', 'p13', 'p199', 'p77', 'p216', 'p275', 'p103', 'p61', 'p119', 'p67', 'p129', 'p112', 'p134', 'p206', 'p123', 'p160', 'p269', 'p176', 'p51', 'p193', 'p22']}}\n"
     ]
    }
   ],
   "source": [
    "import json\n",
    "with open('output.txt', 'r') as f:\n",
    "    output = json.load(f)\n",
    "print(output)"
   ]
  },
  {
   "cell_type": "markdown",
   "metadata": {},
   "source": [
    "#### E. Delete the endpoint"
   ]
  },
  {
   "cell_type": "markdown",
   "metadata": {},
   "source": [
    "Now that you have successfully performed a real-time inference, you do not need the endpoint any more. You can terminate the endpoint to avoid being charged."
   ]
  },
  {
   "cell_type": "code",
   "execution_count": 9,
   "metadata": {},
   "outputs": [],
   "source": [
    "predictor=sage.predictor.Predictor(model_name, sagemaker_session,content_type)\n",
    "predictor.delete_endpoint(delete_endpoint_config=True)"
   ]
  },
  {
   "cell_type": "markdown",
   "metadata": {},
   "source": [
    "### 3. Perform batch inference"
   ]
  },
  {
   "cell_type": "markdown",
   "metadata": {},
   "source": [
    "In this section, you will perform batch inference using multiple input payloads together. If you are not familiar with batch transform, and want to learn more, see these links:\n",
    "1. [How it works](https://docs.aws.amazon.com/sagemaker/latest/dg/ex1-batch-transform.html)\n",
    "2. [How to run a batch transform job](https://docs.aws.amazon.com/sagemaker/latest/dg/how-it-works-batch.html)"
   ]
  },
  {
   "cell_type": "code",
   "execution_count": 10,
   "metadata": {},
   "outputs": [
    {
     "name": "stdout",
     "output_type": "stream",
     "text": [
      "Transform input uploaded to s3://sagemaker-us-east-2-786796469737/crew-swapping\n"
     ]
    }
   ],
   "source": [
    "#upload the batch-transform job input files to S3\n",
    "transform_input_folder = \"input\"\n",
    "transform_input = sagemaker_session.upload_data(transform_input_folder, key_prefix=model_name) \n",
    "print(\"Transform input uploaded to \" + transform_input)"
   ]
  },
  {
   "cell_type": "code",
   "execution_count": 11,
   "metadata": {},
   "outputs": [
    {
     "name": "stdout",
     "output_type": "stream",
     "text": [
      ".....................\u001b[34m * Serving Flask app 'serve' (lazy loading)\n",
      " * Environment: production\n",
      "   WARNING: This is a development server. Do not use it in a production deployment.\n",
      "   Use a production WSGI server instead.\n",
      " * Debug mode: off\n",
      " * Running on all addresses.\n",
      "   WARNING: This is a development server. Do not use it in a production deployment.\n",
      " * Running on http://169.254.255.131:8080/ (Press CTRL+C to quit)\u001b[0m\n",
      "\u001b[34m169.254.255.130 - - [30/Mar/2022 16:27:29] \"GET /ping HTTP/1.1\" 200 -\u001b[0m\n",
      "\u001b[34m169.254.255.130 - - [30/Mar/2022 16:27:29] \"#033[33mGET /execution-parameters HTTP/1.1#033[0m\" 404 -\u001b[0m\n",
      "\u001b[35m169.254.255.130 - - [30/Mar/2022 16:27:29] \"GET /ping HTTP/1.1\" 200 -\u001b[0m\n",
      "\u001b[35m169.254.255.130 - - [30/Mar/2022 16:27:29] \"#033[33mGET /execution-parameters HTTP/1.1#033[0m\" 404 -\u001b[0m\n",
      "\u001b[32m2022-03-30T16:27:29.127:[sagemaker logs]: MaxConcurrentTransforms=1, MaxPayloadInMB=6, BatchStrategy=MULTI_RECORD\u001b[0m\n",
      "\u001b[34m/opt/program/main.py:59: SettingWithCopyWarning: \u001b[0m\n",
      "\u001b[34mA value is trying to be set on a copy of a slice from a DataFrame.\u001b[0m\n",
      "\u001b[34mTry using .loc[row_indexer,col_indexer] = value instead\u001b[0m\n",
      "\u001b[35m/opt/program/main.py:59: SettingWithCopyWarning: \u001b[0m\n",
      "\u001b[35mA value is trying to be set on a copy of a slice from a DataFrame.\u001b[0m\n",
      "\u001b[35mTry using .loc[row_indexer,col_indexer] = value instead\u001b[0m\n",
      "\u001b[34mSee the caveats in the documentation: https://pandas.pydata.org/pandas-docs/stable/user_guide/indexing.html#returning-a-view-versus-a-copy\n",
      "  temp_df['start_date'] = pd.to_datetime(temp_df['start']).dt.date\u001b[0m\n",
      "\u001b[34mCrew swapping is required\u001b[0m\n",
      "\u001b[34mCrew swapping is required\u001b[0m\n",
      "\u001b[34m/opt/program/main.py:59: SettingWithCopyWarning: \u001b[0m\n",
      "\u001b[34mA value is trying to be set on a copy of a slice from a DataFrame.\u001b[0m\n",
      "\u001b[34mTry using .loc[row_indexer,col_indexer] = value instead\u001b[0m\n",
      "\u001b[34mSee the caveats in the documentation: https://pandas.pydata.org/pandas-docs/stable/user_guide/indexing.html#returning-a-view-versus-a-copy\n",
      "  temp_df['start_date'] = pd.to_datetime(temp_df['start']).dt.date\u001b[0m\n",
      "\u001b[34mNo crew swapping is required for crew c31 as still rest time is available of 20.8 hours\u001b[0m\n",
      "\u001b[34mNo crew swapping is required for crew c34 as still rest time is available of 21.216666666666665 hours\u001b[0m\n",
      "\u001b[34m/opt/program/main.py:59: SettingWithCopyWarning: \u001b[0m\n",
      "\u001b[34mA value is trying to be set on a copy of a slice from a DataFrame.\u001b[0m\n",
      "\u001b[34mTry using .loc[row_indexer,col_indexer] = value instead\u001b[0m\n",
      "\u001b[34mSee the caveats in the documentation: https://pandas.pydata.org/pandas-docs/stable/user_guide/indexing.html#returning-a-view-versus-a-copy\n",
      "  temp_df['start_date'] = pd.to_datetime(temp_df['start']).dt.date\u001b[0m\n",
      "\u001b[34mNo crew swapping is required for crew c28 as still rest time is available of 249.53333333333333 hours\u001b[0m\n",
      "\u001b[34mNo crew swapping is required for crew c34 as still rest time is available of 238.36666666666667 hours\u001b[0m\n",
      "\u001b[34m/opt/program/main.py:59: SettingWithCopyWarning: \u001b[0m\n",
      "\u001b[34mA value is trying to be set on a copy of a slice from a DataFrame.\u001b[0m\n",
      "\u001b[34mTry using .loc[row_indexer,col_indexer] = value instead\u001b[0m\n",
      "\u001b[34mSee the caveats in the documentation: https://pandas.pydata.org/pandas-docs/stable/user_guide/indexing.html#returning-a-view-versus-a-copy\n",
      "  temp_df['start_date'] = pd.to_datetime(temp_df['start']).dt.date\u001b[0m\n",
      "\u001b[35mSee the caveats in the documentation: https://pandas.pydata.org/pandas-docs/stable/user_guide/indexing.html#returning-a-view-versus-a-copy\n",
      "  temp_df['start_date'] = pd.to_datetime(temp_df['start']).dt.date\u001b[0m\n",
      "\u001b[35mCrew swapping is required\u001b[0m\n",
      "\u001b[35mCrew swapping is required\u001b[0m\n",
      "\u001b[35m/opt/program/main.py:59: SettingWithCopyWarning: \u001b[0m\n",
      "\u001b[35mA value is trying to be set on a copy of a slice from a DataFrame.\u001b[0m\n",
      "\u001b[35mTry using .loc[row_indexer,col_indexer] = value instead\u001b[0m\n",
      "\u001b[35mSee the caveats in the documentation: https://pandas.pydata.org/pandas-docs/stable/user_guide/indexing.html#returning-a-view-versus-a-copy\n",
      "  temp_df['start_date'] = pd.to_datetime(temp_df['start']).dt.date\u001b[0m\n",
      "\u001b[35mNo crew swapping is required for crew c31 as still rest time is available of 20.8 hours\u001b[0m\n",
      "\u001b[35mNo crew swapping is required for crew c34 as still rest time is available of 21.216666666666665 hours\u001b[0m\n",
      "\u001b[35m/opt/program/main.py:59: SettingWithCopyWarning: \u001b[0m\n",
      "\u001b[35mA value is trying to be set on a copy of a slice from a DataFrame.\u001b[0m\n",
      "\u001b[35mTry using .loc[row_indexer,col_indexer] = value instead\u001b[0m\n",
      "\u001b[35mSee the caveats in the documentation: https://pandas.pydata.org/pandas-docs/stable/user_guide/indexing.html#returning-a-view-versus-a-copy\n",
      "  temp_df['start_date'] = pd.to_datetime(temp_df['start']).dt.date\u001b[0m\n",
      "\u001b[35mNo crew swapping is required for crew c28 as still rest time is available of 249.53333333333333 hours\u001b[0m\n",
      "\u001b[35mNo crew swapping is required for crew c34 as still rest time is available of 238.36666666666667 hours\u001b[0m\n",
      "\u001b[35m/opt/program/main.py:59: SettingWithCopyWarning: \u001b[0m\n",
      "\u001b[35mA value is trying to be set on a copy of a slice from a DataFrame.\u001b[0m\n",
      "\u001b[35mTry using .loc[row_indexer,col_indexer] = value instead\u001b[0m\n",
      "\u001b[35mSee the caveats in the documentation: https://pandas.pydata.org/pandas-docs/stable/user_guide/indexing.html#returning-a-view-versus-a-copy\n",
      "  temp_df['start_date'] = pd.to_datetime(temp_df['start']).dt.date\u001b[0m\n",
      "\u001b[34mCrew swapping is required\u001b[0m\n",
      "\u001b[35mCrew swapping is required\u001b[0m\n",
      "\u001b[34mCrew swapping is required\u001b[0m\n",
      "\u001b[34m/opt/program/main.py:59: SettingWithCopyWarning: \u001b[0m\n",
      "\u001b[34mA value is trying to be set on a copy of a slice from a DataFrame.\u001b[0m\n",
      "\u001b[34mTry using .loc[row_indexer,col_indexer] = value instead\u001b[0m\n",
      "\u001b[34mSee the caveats in the documentation: https://pandas.pydata.org/pandas-docs/stable/user_guide/indexing.html#returning-a-view-versus-a-copy\n",
      "  temp_df['start_date'] = pd.to_datetime(temp_df['start']).dt.date\u001b[0m\n",
      "\u001b[34mCrew swapping is required\u001b[0m\n",
      "\u001b[34mCrew swapping is required\u001b[0m\n",
      "\u001b[35mCrew swapping is required\u001b[0m\n",
      "\u001b[35m/opt/program/main.py:59: SettingWithCopyWarning: \u001b[0m\n",
      "\u001b[35mA value is trying to be set on a copy of a slice from a DataFrame.\u001b[0m\n",
      "\u001b[35mTry using .loc[row_indexer,col_indexer] = value instead\u001b[0m\n",
      "\u001b[35mSee the caveats in the documentation: https://pandas.pydata.org/pandas-docs/stable/user_guide/indexing.html#returning-a-view-versus-a-copy\n",
      "  temp_df['start_date'] = pd.to_datetime(temp_df['start']).dt.date\u001b[0m\n",
      "\u001b[35mCrew swapping is required\u001b[0m\n",
      "\u001b[35mCrew swapping is required\u001b[0m\n",
      "\u001b[34m/opt/program/main.py:59: SettingWithCopyWarning: \u001b[0m\n",
      "\u001b[34mA value is trying to be set on a copy of a slice from a DataFrame.\u001b[0m\n",
      "\u001b[34mTry using .loc[row_indexer,col_indexer] = value instead\u001b[0m\n",
      "\u001b[34mSee the caveats in the documentation: https://pandas.pydata.org/pandas-docs/stable/user_guide/indexing.html#returning-a-view-versus-a-copy\n",
      "  temp_df['start_date'] = pd.to_datetime(temp_df['start']).dt.date\u001b[0m\n",
      "\u001b[34mNo crew swapping is required for crew c18 as still rest time is available of 47.083333333333336 hours\u001b[0m\n",
      "\u001b[34mNo crew swapping is required for crew c16 as still rest time is available of 25.183333333333334 hours\u001b[0m\n",
      "\u001b[34mFinal assignment of crew for BASE1\u001b[0m\n",
      "\u001b[34m####################################\u001b[0m\n",
      "\u001b[34m{'c8': ['p187', 'p41', 'p219', 'p138', 'p202', 'p98', 'p178', 'p7', 'p10', 'p27', 'p247', 'p232', 'p252', 'p183', 'p95', 'p289', 'p296', 'p72'], 'c6': ['p187', 'p41', 'p219', 'p138', 'p202', 'p98', 'p178', 'p7', 'p10', 'p27', 'p247', 'p232', 'p252', 'p183', 'p95', 'p289', 'p296', 'p72'], 'c9': ['p189', 'p42', 'p143', 'p139', 'p99', 'p179', 'p278', 'p25', 'p209', 'p225', 'p246', 'p230', 'p12', 'p253', 'p94', 'p249', 'p284', 'p154'], 'c2': ['p189', 'p42', 'p143', 'p139', 'p99', 'p179', 'p278', 'p25', 'p209', 'p225', 'p246', 'p230', 'p12', 'p253', 'p94', 'p249', 'p284', 'p154'], 'c3': ['p188', 'p218', 'p109', 'p140', 'p204', 'p8', 'p288', 'p26', 'p211', 'p231', 'p255', 'p4', 'p182', 'p93', 'p251', 'p33', 'p286', 'p293', 'p73', 'p153'], 'c4': ['p188', 'p218', 'p109', 'p140', 'p204', 'p8', 'p288', 'p26', 'p211', 'p231', 'p255', 'p4', 'p182', 'p93', 'p251', 'p33', 'p286', 'p293', 'p73', 'p153'], 'c1': ['p190', 'p110', 'p258', 'p141', 'p180', 'p9', 'p210', 'p227', 'p245', 'p3', 'p181', 'p34', 'p285', 'p294', 'p75', 'p155'], 'c5': ['p190', 'p110', 'p258', 'p141', 'p180', 'p9', 'p210', 'p227', 'p245', 'p3', 'p181', 'p34', 'p285', 'p294', 'p75', 'p155'], 'c7': ['p40', 'p217', 'p108', 'p142', 'p203', 'p100', 'p279', 'p226', 'p248', 'p11', 'p254', 'p2', 'p250', 'p290', 'p287', 'p295', 'p74', 'p156'], 'c10': ['p40', 'p217', 'p108', 'p142', 'p203', 'p100', 'p279', 'p226', 'p248', 'p11', 'p254', 'p2', 'p250', 'p290', 'p287', 'p295', 'p74', 'p156']}\u001b[0m\n",
      "\u001b[34mFinal assignment of crew for BASE2\u001b[0m\n",
      "\u001b[34m####################################\u001b[0m\n",
      "\u001b[34m{'c17': ['p43', 'p165', 'p185', 'p18', 'p256', 'p280', 'p6', 'p157', 'p151', 'p86', 'p291', 'p149', 'p235', 'p297'], 'c18': ['p43', 'p185', 'p97', 'p280', 'p5', 'p59', 'p146', 'p87', 'p292', 'p283', 'p236', 'p233', 'p1'], 'c13': ['p44', 'p184', 'p96', 'p229', 'p5', 'p58', 'p238', 'p127', 'p150', 'p173', 'p282', 'p297'], 'c16': ['p44', 'p166', 'p46', 'p18', 'p244', 'p6', 'p59', 'p145', 'p126', 'p86', 'p292', 'p172', 'p233', 'p71', 'p148'], 'c15': ['p45', 'p184', 'p96', 'p228', 'p244', 'p58', 'p146', 'p291', 'p173', 'p283', 'p235', 'p70', 'p102'], 'c14': ['p45', 'p186', 'p229', 'p281', 'p158', 'p238', 'p127', 'p57', 'p282', 'p298', 'p1', 'p102'], 'c11': ['p164', 'p166', 'p46', 'p186', 'p243', 'p257', 'p158', 'p144', 'p152', 'p56', 'p150', 'p172', 'p147', 'p70', 'p101'], 'c12': ['p164', 'p47', 'p97', 'p257', 'p157', 'p237', 'p144', 'p151', 'p126', 'p87', 'p56', 'p149', 'p234', 'p147', 'p71', 'p101'], 'c19': ['p165', 'p47', 'p228', 'p243', 'p256', 'p281', 'p237', 'p145', 'p152', 'p57', 'p236', 'p234', 'p298', 'p148']}\u001b[0m\n",
      "\u001b[34mFinal assignment of crew for BASE3\u001b[0m\n",
      "\u001b[34m####################################\u001b[0m\n",
      "\u001b[34m{'c20': ['p241', 'p88', 'p39', 'p201', 'p259', 'p223', 'p213', 'p274', 'p103', 'p62', 'p67', 'p128', 'p111', 'p137', 'p122', 'p266', 'p162', 'p174', 'p48', 'p55', 'p195', 'p20'], 'c28': ['p241', 'p89', 'p38', 'p197', 'p80', 'p221', 'p212', 'p167', 'p107', 'p119', 'p81', 'p132', 'p124', 'p160', 'p271', 'p51', 'p24'], 'c24': ['p240', 'p30', 'p16', 'p36', 'p262', 'p76', 'p213', 'p167', 'p104', 'p63', 'p66', 'p128', 'p111', 'p136', 'p121', 'p265', 'p270', 'p48', 'p301', 'p192', 'p22'], 'c31': ['p240', 'p91', 'p17', 'p36', 'p198', 'p259', 'p224', 'p216', 'p273', 'p62', 'p68', 'p84', 'p113', 'p134', 'p207', 'p264', 'p161', 'p270', 'p49', 'p301', 'p196', 'p19'], 'c30': ['p242', 'p29', 'p16', 'p38', 'p201', 'p260', 'p77', 'p215', 'p276', 'p170', 'p106', 'p63', 'p65', 'p82', 'p132', 'p125', 'p162', 'p175', 'p55', 'p194', 'p21'], 'c33': ['p242', 'p30', 'p17', 'p37', 'p262', 'p80', 'p222', 'p275', 'p171', 'p60', 'p120', 'p85', 'p113', 'p135', 'p124', 'p267', 'p268', 'p175', 'p54', 'p303', 'p193'], 'c22': ['p239', 'p91', 'p15', 'p198', 'p79', 'p222', 'p274', 'p107', 'p118', 'p82', 'p131', 'p133', 'p206', 'p263', 'p163', 'p50', 'p195', 'p23'], 'c26': ['p239', 'p92', 'p14', 'p35', 'p76', 'p212', 'p168', 'p105', 'p117', 'p68', 'p129', 'p115', 'p205', 'p125', 'p161', 'p174', 'p53', 'p303', 'p191'], 'c25': ['p32', 'p92', 'p15', 'p197', 'p79', 'p223', 'p214', 'p169', 'p105', 'p116', 'p66', 'p85', 'p130', 'p133', 'p208', 'p266', 'p268', 'p176', 'p52', 'p302', 'p192', 'p21'], 'c21': ['p32', 'p90', 'p35', 'p78', 'p215', 'p273', 'p64', 'p65', 'p83', 'p114', 'p208', 'p267', 'p269', 'p177', 'p54', 'p299', 'p19'], 'c29': ['p31', 'p90', 'p37', 'p261', 'p220', 'p276', 'p169', 'p106', 'p116', 'p69', 'p130', 'p135', 'p123', 'p159', 'p272', 'p49', 'p302', 'p191'], 'c27': ['p31', 'p88', 'p13', 'p200', 'p261', 'p221', 'p277', 'p168', 'p104', 'p64', 'p118', 'p81', 'p83', 'p115', 'p136', 'p207', 'p263', 'p159', 'p271', 'p53', 'p300', 'p194', 'p20'], 'c23': ['p28', 'p14', 'p200', 'p260', 'p224', 'p214', 'p171', 'p61', 'p120', 'p84', 'p112', 'p137', 'p121', 'p264', 'p163', 'p177', 'p52', 'p300', 'p196', 'p23'], 'c34': ['p28', 'p13', 'p199', 'p77', 'p216', 'p275', 'p103', 'p61', 'p119', 'p67', 'p129', 'p112', 'p134', 'p206', 'p123', 'p160', 'p269', 'p176', 'p51', 'p193', 'p22'], 'c32': ['p29', 'p89', 'p39', 'p199', 'p78', 'p220', 'p277', 'p170', 'p60', 'p117', 'p69', 'p131', 'p114', 'p205', 'p122', 'p265', 'p272', 'p50', 'p299', 'p24']}\u001b[0m\n",
      "\u001b[34m169.254.255.130 - - [30/Mar/2022 16:27:31] \"POST /invocations HTTP/1.1\" 200 -\u001b[0m\n",
      "\u001b[35m/opt/program/main.py:59: SettingWithCopyWarning: \u001b[0m\n",
      "\u001b[35mA value is trying to be set on a copy of a slice from a DataFrame.\u001b[0m\n",
      "\u001b[35mTry using .loc[row_indexer,col_indexer] = value instead\u001b[0m\n",
      "\u001b[35mSee the caveats in the documentation: https://pandas.pydata.org/pandas-docs/stable/user_guide/indexing.html#returning-a-view-versus-a-copy\n",
      "  temp_df['start_date'] = pd.to_datetime(temp_df['start']).dt.date\u001b[0m\n",
      "\u001b[35mNo crew swapping is required for crew c18 as still rest time is available of 47.083333333333336 hours\u001b[0m\n",
      "\u001b[35mNo crew swapping is required for crew c16 as still rest time is available of 25.183333333333334 hours\u001b[0m\n",
      "\u001b[35mFinal assignment of crew for BASE1\u001b[0m\n",
      "\u001b[35m####################################\u001b[0m\n",
      "\u001b[35m{'c8': ['p187', 'p41', 'p219', 'p138', 'p202', 'p98', 'p178', 'p7', 'p10', 'p27', 'p247', 'p232', 'p252', 'p183', 'p95', 'p289', 'p296', 'p72'], 'c6': ['p187', 'p41', 'p219', 'p138', 'p202', 'p98', 'p178', 'p7', 'p10', 'p27', 'p247', 'p232', 'p252', 'p183', 'p95', 'p289', 'p296', 'p72'], 'c9': ['p189', 'p42', 'p143', 'p139', 'p99', 'p179', 'p278', 'p25', 'p209', 'p225', 'p246', 'p230', 'p12', 'p253', 'p94', 'p249', 'p284', 'p154'], 'c2': ['p189', 'p42', 'p143', 'p139', 'p99', 'p179', 'p278', 'p25', 'p209', 'p225', 'p246', 'p230', 'p12', 'p253', 'p94', 'p249', 'p284', 'p154'], 'c3': ['p188', 'p218', 'p109', 'p140', 'p204', 'p8', 'p288', 'p26', 'p211', 'p231', 'p255', 'p4', 'p182', 'p93', 'p251', 'p33', 'p286', 'p293', 'p73', 'p153'], 'c4': ['p188', 'p218', 'p109', 'p140', 'p204', 'p8', 'p288', 'p26', 'p211', 'p231', 'p255', 'p4', 'p182', 'p93', 'p251', 'p33', 'p286', 'p293', 'p73', 'p153'], 'c1': ['p190', 'p110', 'p258', 'p141', 'p180', 'p9', 'p210', 'p227', 'p245', 'p3', 'p181', 'p34', 'p285', 'p294', 'p75', 'p155'], 'c5': ['p190', 'p110', 'p258', 'p141', 'p180', 'p9', 'p210', 'p227', 'p245', 'p3', 'p181', 'p34', 'p285', 'p294', 'p75', 'p155'], 'c7': ['p40', 'p217', 'p108', 'p142', 'p203', 'p100', 'p279', 'p226', 'p248', 'p11', 'p254', 'p2', 'p250', 'p290', 'p287', 'p295', 'p74', 'p156'], 'c10': ['p40', 'p217', 'p108', 'p142', 'p203', 'p100', 'p279', 'p226', 'p248', 'p11', 'p254', 'p2', 'p250', 'p290', 'p287', 'p295', 'p74', 'p156']}\u001b[0m\n",
      "\u001b[35mFinal assignment of crew for BASE2\u001b[0m\n",
      "\u001b[35m####################################\u001b[0m\n",
      "\u001b[35m{'c17': ['p43', 'p165', 'p185', 'p18', 'p256', 'p280', 'p6', 'p157', 'p151', 'p86', 'p291', 'p149', 'p235', 'p297'], 'c18': ['p43', 'p185', 'p97', 'p280', 'p5', 'p59', 'p146', 'p87', 'p292', 'p283', 'p236', 'p233', 'p1'], 'c13': ['p44', 'p184', 'p96', 'p229', 'p5', 'p58', 'p238', 'p127', 'p150', 'p173', 'p282', 'p297'], 'c16': ['p44', 'p166', 'p46', 'p18', 'p244', 'p6', 'p59', 'p145', 'p126', 'p86', 'p292', 'p172', 'p233', 'p71', 'p148'], 'c15': ['p45', 'p184', 'p96', 'p228', 'p244', 'p58', 'p146', 'p291', 'p173', 'p283', 'p235', 'p70', 'p102'], 'c14': ['p45', 'p186', 'p229', 'p281', 'p158', 'p238', 'p127', 'p57', 'p282', 'p298', 'p1', 'p102'], 'c11': ['p164', 'p166', 'p46', 'p186', 'p243', 'p257', 'p158', 'p144', 'p152', 'p56', 'p150', 'p172', 'p147', 'p70', 'p101'], 'c12': ['p164', 'p47', 'p97', 'p257', 'p157', 'p237', 'p144', 'p151', 'p126', 'p87', 'p56', 'p149', 'p234', 'p147', 'p71', 'p101'], 'c19': ['p165', 'p47', 'p228', 'p243', 'p256', 'p281', 'p237', 'p145', 'p152', 'p57', 'p236', 'p234', 'p298', 'p148']}\u001b[0m\n",
      "\u001b[35mFinal assignment of crew for BASE3\u001b[0m\n",
      "\u001b[35m####################################\u001b[0m\n",
      "\u001b[35m{'c20': ['p241', 'p88', 'p39', 'p201', 'p259', 'p223', 'p213', 'p274', 'p103', 'p62', 'p67', 'p128', 'p111', 'p137', 'p122', 'p266', 'p162', 'p174', 'p48', 'p55', 'p195', 'p20'], 'c28': ['p241', 'p89', 'p38', 'p197', 'p80', 'p221', 'p212', 'p167', 'p107', 'p119', 'p81', 'p132', 'p124', 'p160', 'p271', 'p51', 'p24'], 'c24': ['p240', 'p30', 'p16', 'p36', 'p262', 'p76', 'p213', 'p167', 'p104', 'p63', 'p66', 'p128', 'p111', 'p136', 'p121', 'p265', 'p270', 'p48', 'p301', 'p192', 'p22'], 'c31': ['p240', 'p91', 'p17', 'p36', 'p198', 'p259', 'p224', 'p216', 'p273', 'p62', 'p68', 'p84', 'p113', 'p134', 'p207', 'p264', 'p161', 'p270', 'p49', 'p301', 'p196', 'p19'], 'c30': ['p242', 'p29', 'p16', 'p38', 'p201', 'p260', 'p77', 'p215', 'p276', 'p170', 'p106', 'p63', 'p65', 'p82', 'p132', 'p125', 'p162', 'p175', 'p55', 'p194', 'p21'], 'c33': ['p242', 'p30', 'p17', 'p37', 'p262', 'p80', 'p222', 'p275', 'p171', 'p60', 'p120', 'p85', 'p113', 'p135', 'p124', 'p267', 'p268', 'p175', 'p54', 'p303', 'p193'], 'c22': ['p239', 'p91', 'p15', 'p198', 'p79', 'p222', 'p274', 'p107', 'p118', 'p82', 'p131', 'p133', 'p206', 'p263', 'p163', 'p50', 'p195', 'p23'], 'c26': ['p239', 'p92', 'p14', 'p35', 'p76', 'p212', 'p168', 'p105', 'p117', 'p68', 'p129', 'p115', 'p205', 'p125', 'p161', 'p174', 'p53', 'p303', 'p191'], 'c25': ['p32', 'p92', 'p15', 'p197', 'p79', 'p223', 'p214', 'p169', 'p105', 'p116', 'p66', 'p85', 'p130', 'p133', 'p208', 'p266', 'p268', 'p176', 'p52', 'p302', 'p192', 'p21'], 'c21': ['p32', 'p90', 'p35', 'p78', 'p215', 'p273', 'p64', 'p65', 'p83', 'p114', 'p208', 'p267', 'p269', 'p177', 'p54', 'p299', 'p19'], 'c29': ['p31', 'p90', 'p37', 'p261', 'p220', 'p276', 'p169', 'p106', 'p116', 'p69', 'p130', 'p135', 'p123', 'p159', 'p272', 'p49', 'p302', 'p191'], 'c27': ['p31', 'p88', 'p13', 'p200', 'p261', 'p221', 'p277', 'p168', 'p104', 'p64', 'p118', 'p81', 'p83', 'p115', 'p136', 'p207', 'p263', 'p159', 'p271', 'p53', 'p300', 'p194', 'p20'], 'c23': ['p28', 'p14', 'p200', 'p260', 'p224', 'p214', 'p171', 'p61', 'p120', 'p84', 'p112', 'p137', 'p121', 'p264', 'p163', 'p177', 'p52', 'p300', 'p196', 'p23'], 'c34': ['p28', 'p13', 'p199', 'p77', 'p216', 'p275', 'p103', 'p61', 'p119', 'p67', 'p129', 'p112', 'p134', 'p206', 'p123', 'p160', 'p269', 'p176', 'p51', 'p193', 'p22'], 'c32': ['p29', 'p89', 'p39', 'p199', 'p78', 'p220', 'p277', 'p170', 'p60', 'p117', 'p69', 'p131', 'p114', 'p205', 'p122', 'p265', 'p272', 'p50', 'p299', 'p24']}\u001b[0m\n",
      "\u001b[35m169.254.255.130 - - [30/Mar/2022 16:27:31] \"POST /invocations HTTP/1.1\" 200 -\u001b[0m\n",
      "\n",
      "\u001b[34m * Serving Flask app 'serve' (lazy loading)\n",
      " * Environment: production\n",
      "   WARNING: This is a development server. Do not use it in a production deployment.\n",
      "   Use a production WSGI server instead.\n",
      " * Debug mode: off\n",
      " * Running on all addresses.\n",
      "   WARNING: This is a development server. Do not use it in a production deployment.\n",
      " * Running on http://169.254.255.131:8080/ (Press CTRL+C to quit)\u001b[0m\n",
      "\u001b[35m * Serving Flask app 'serve' (lazy loading)\n",
      " * Environment: production\n",
      "   WARNING: This is a development server. Do not use it in a production deployment.\n",
      "   Use a production WSGI server instead.\n",
      " * Debug mode: off\n",
      " * Running on all addresses.\n",
      "   WARNING: This is a development server. Do not use it in a production deployment.\n",
      " * Running on http://169.254.255.131:8080/ (Press CTRL+C to quit)\u001b[0m\n",
      "\u001b[34m169.254.255.130 - - [30/Mar/2022 16:27:29] \"GET /ping HTTP/1.1\" 200 -\u001b[0m\n",
      "\u001b[34m169.254.255.130 - - [30/Mar/2022 16:27:29] \"#033[33mGET /execution-parameters HTTP/1.1#033[0m\" 404 -\u001b[0m\n",
      "\u001b[35m169.254.255.130 - - [30/Mar/2022 16:27:29] \"GET /ping HTTP/1.1\" 200 -\u001b[0m\n",
      "\u001b[35m169.254.255.130 - - [30/Mar/2022 16:27:29] \"#033[33mGET /execution-parameters HTTP/1.1#033[0m\" 404 -\u001b[0m\n",
      "\u001b[32m2022-03-30T16:27:29.127:[sagemaker logs]: MaxConcurrentTransforms=1, MaxPayloadInMB=6, BatchStrategy=MULTI_RECORD\u001b[0m\n",
      "\u001b[34m/opt/program/main.py:59: SettingWithCopyWarning: \u001b[0m\n",
      "\u001b[34mA value is trying to be set on a copy of a slice from a DataFrame.\u001b[0m\n",
      "\u001b[34mTry using .loc[row_indexer,col_indexer] = value instead\u001b[0m\n",
      "\u001b[35m/opt/program/main.py:59: SettingWithCopyWarning: \u001b[0m\n",
      "\u001b[35mA value is trying to be set on a copy of a slice from a DataFrame.\u001b[0m\n",
      "\u001b[35mTry using .loc[row_indexer,col_indexer] = value instead\u001b[0m\n",
      "\u001b[34mSee the caveats in the documentation: https://pandas.pydata.org/pandas-docs/stable/user_guide/indexing.html#returning-a-view-versus-a-copy\n",
      "  temp_df['start_date'] = pd.to_datetime(temp_df['start']).dt.date\u001b[0m\n",
      "\u001b[34mCrew swapping is required\u001b[0m\n",
      "\u001b[34mCrew swapping is required\u001b[0m\n",
      "\u001b[34m/opt/program/main.py:59: SettingWithCopyWarning: \u001b[0m\n",
      "\u001b[34mA value is trying to be set on a copy of a slice from a DataFrame.\u001b[0m\n",
      "\u001b[34mTry using .loc[row_indexer,col_indexer] = value instead\u001b[0m\n",
      "\u001b[34mSee the caveats in the documentation: https://pandas.pydata.org/pandas-docs/stable/user_guide/indexing.html#returning-a-view-versus-a-copy\n",
      "  temp_df['start_date'] = pd.to_datetime(temp_df['start']).dt.date\u001b[0m\n",
      "\u001b[34mNo crew swapping is required for crew c31 as still rest time is available of 20.8 hours\u001b[0m\n",
      "\u001b[34mNo crew swapping is required for crew c34 as still rest time is available of 21.216666666666665 hours\u001b[0m\n",
      "\u001b[34m/opt/program/main.py:59: SettingWithCopyWarning: \u001b[0m\n",
      "\u001b[34mA value is trying to be set on a copy of a slice from a DataFrame.\u001b[0m\n",
      "\u001b[34mTry using .loc[row_indexer,col_indexer] = value instead\u001b[0m\n",
      "\u001b[34mSee the caveats in the documentation: https://pandas.pydata.org/pandas-docs/stable/user_guide/indexing.html#returning-a-view-versus-a-copy\n",
      "  temp_df['start_date'] = pd.to_datetime(temp_df['start']).dt.date\u001b[0m\n",
      "\u001b[34mNo crew swapping is required for crew c28 as still rest time is available of 249.53333333333333 hours\u001b[0m\n",
      "\u001b[34mNo crew swapping is required for crew c34 as still rest time is available of 238.36666666666667 hours\u001b[0m\n",
      "\u001b[34m/opt/program/main.py:59: SettingWithCopyWarning: \u001b[0m\n",
      "\u001b[34mA value is trying to be set on a copy of a slice from a DataFrame.\u001b[0m\n",
      "\u001b[34mTry using .loc[row_indexer,col_indexer] = value instead\u001b[0m\n",
      "\u001b[34mSee the caveats in the documentation: https://pandas.pydata.org/pandas-docs/stable/user_guide/indexing.html#returning-a-view-versus-a-copy\n",
      "  temp_df['start_date'] = pd.to_datetime(temp_df['start']).dt.date\u001b[0m\n",
      "\u001b[35mSee the caveats in the documentation: https://pandas.pydata.org/pandas-docs/stable/user_guide/indexing.html#returning-a-view-versus-a-copy\n",
      "  temp_df['start_date'] = pd.to_datetime(temp_df['start']).dt.date\u001b[0m\n",
      "\u001b[35mCrew swapping is required\u001b[0m\n",
      "\u001b[35mCrew swapping is required\u001b[0m\n",
      "\u001b[35m/opt/program/main.py:59: SettingWithCopyWarning: \u001b[0m\n",
      "\u001b[35mA value is trying to be set on a copy of a slice from a DataFrame.\u001b[0m\n",
      "\u001b[35mTry using .loc[row_indexer,col_indexer] = value instead\u001b[0m\n",
      "\u001b[35mSee the caveats in the documentation: https://pandas.pydata.org/pandas-docs/stable/user_guide/indexing.html#returning-a-view-versus-a-copy\n",
      "  temp_df['start_date'] = pd.to_datetime(temp_df['start']).dt.date\u001b[0m\n",
      "\u001b[35mNo crew swapping is required for crew c31 as still rest time is available of 20.8 hours\u001b[0m\n",
      "\u001b[35mNo crew swapping is required for crew c34 as still rest time is available of 21.216666666666665 hours\u001b[0m\n",
      "\u001b[35m/opt/program/main.py:59: SettingWithCopyWarning: \u001b[0m\n",
      "\u001b[35mA value is trying to be set on a copy of a slice from a DataFrame.\u001b[0m\n",
      "\u001b[35mTry using .loc[row_indexer,col_indexer] = value instead\u001b[0m\n",
      "\u001b[35mSee the caveats in the documentation: https://pandas.pydata.org/pandas-docs/stable/user_guide/indexing.html#returning-a-view-versus-a-copy\n",
      "  temp_df['start_date'] = pd.to_datetime(temp_df['start']).dt.date\u001b[0m\n",
      "\u001b[35mNo crew swapping is required for crew c28 as still rest time is available of 249.53333333333333 hours\u001b[0m\n",
      "\u001b[35mNo crew swapping is required for crew c34 as still rest time is available of 238.36666666666667 hours\u001b[0m\n",
      "\u001b[35m/opt/program/main.py:59: SettingWithCopyWarning: \u001b[0m\n",
      "\u001b[35mA value is trying to be set on a copy of a slice from a DataFrame.\u001b[0m\n",
      "\u001b[35mTry using .loc[row_indexer,col_indexer] = value instead\u001b[0m\n",
      "\u001b[35mSee the caveats in the documentation: https://pandas.pydata.org/pandas-docs/stable/user_guide/indexing.html#returning-a-view-versus-a-copy\n",
      "  temp_df['start_date'] = pd.to_datetime(temp_df['start']).dt.date\u001b[0m\n",
      "\u001b[34mCrew swapping is required\u001b[0m\n",
      "\u001b[35mCrew swapping is required\u001b[0m\n",
      "\u001b[34mCrew swapping is required\u001b[0m\n",
      "\u001b[34m/opt/program/main.py:59: SettingWithCopyWarning: \u001b[0m\n",
      "\u001b[34mA value is trying to be set on a copy of a slice from a DataFrame.\u001b[0m\n",
      "\u001b[34mTry using .loc[row_indexer,col_indexer] = value instead\u001b[0m\n",
      "\u001b[34mSee the caveats in the documentation: https://pandas.pydata.org/pandas-docs/stable/user_guide/indexing.html#returning-a-view-versus-a-copy\n",
      "  temp_df['start_date'] = pd.to_datetime(temp_df['start']).dt.date\u001b[0m\n",
      "\u001b[34mCrew swapping is required\u001b[0m\n",
      "\u001b[34mCrew swapping is required\u001b[0m\n",
      "\u001b[35mCrew swapping is required\u001b[0m\n",
      "\u001b[35m/opt/program/main.py:59: SettingWithCopyWarning: \u001b[0m\n",
      "\u001b[35mA value is trying to be set on a copy of a slice from a DataFrame.\u001b[0m\n",
      "\u001b[35mTry using .loc[row_indexer,col_indexer] = value instead\u001b[0m\n",
      "\u001b[35mSee the caveats in the documentation: https://pandas.pydata.org/pandas-docs/stable/user_guide/indexing.html#returning-a-view-versus-a-copy\n",
      "  temp_df['start_date'] = pd.to_datetime(temp_df['start']).dt.date\u001b[0m\n",
      "\u001b[35mCrew swapping is required\u001b[0m\n",
      "\u001b[35mCrew swapping is required\u001b[0m\n",
      "\u001b[34m/opt/program/main.py:59: SettingWithCopyWarning: \u001b[0m\n",
      "\u001b[34mA value is trying to be set on a copy of a slice from a DataFrame.\u001b[0m\n",
      "\u001b[34mTry using .loc[row_indexer,col_indexer] = value instead\u001b[0m\n",
      "\u001b[34mSee the caveats in the documentation: https://pandas.pydata.org/pandas-docs/stable/user_guide/indexing.html#returning-a-view-versus-a-copy\n",
      "  temp_df['start_date'] = pd.to_datetime(temp_df['start']).dt.date\u001b[0m\n",
      "\u001b[34mNo crew swapping is required for crew c18 as still rest time is available of 47.083333333333336 hours\u001b[0m\n",
      "\u001b[34mNo crew swapping is required for crew c16 as still rest time is available of 25.183333333333334 hours\u001b[0m\n",
      "\u001b[34mFinal assignment of crew for BASE1\u001b[0m\n",
      "\u001b[34m####################################\u001b[0m\n",
      "\u001b[34m{'c8': ['p187', 'p41', 'p219', 'p138', 'p202', 'p98', 'p178', 'p7', 'p10', 'p27', 'p247', 'p232', 'p252', 'p183', 'p95', 'p289', 'p296', 'p72'], 'c6': ['p187', 'p41', 'p219', 'p138', 'p202', 'p98', 'p178', 'p7', 'p10', 'p27', 'p247', 'p232', 'p252', 'p183', 'p95', 'p289', 'p296', 'p72'], 'c9': ['p189', 'p42', 'p143', 'p139', 'p99', 'p179', 'p278', 'p25', 'p209', 'p225', 'p246', 'p230', 'p12', 'p253', 'p94', 'p249', 'p284', 'p154'], 'c2': ['p189', 'p42', 'p143', 'p139', 'p99', 'p179', 'p278', 'p25', 'p209', 'p225', 'p246', 'p230', 'p12', 'p253', 'p94', 'p249', 'p284', 'p154'], 'c3': ['p188', 'p218', 'p109', 'p140', 'p204', 'p8', 'p288', 'p26', 'p211', 'p231', 'p255', 'p4', 'p182', 'p93', 'p251', 'p33', 'p286', 'p293', 'p73', 'p153'], 'c4': ['p188', 'p218', 'p109', 'p140', 'p204', 'p8', 'p288', 'p26', 'p211', 'p231', 'p255', 'p4', 'p182', 'p93', 'p251', 'p33', 'p286', 'p293', 'p73', 'p153'], 'c1': ['p190', 'p110', 'p258', 'p141', 'p180', 'p9', 'p210', 'p227', 'p245', 'p3', 'p181', 'p34', 'p285', 'p294', 'p75', 'p155'], 'c5': ['p190', 'p110', 'p258', 'p141', 'p180', 'p9', 'p210', 'p227', 'p245', 'p3', 'p181', 'p34', 'p285', 'p294', 'p75', 'p155'], 'c7': ['p40', 'p217', 'p108', 'p142', 'p203', 'p100', 'p279', 'p226', 'p248', 'p11', 'p254', 'p2', 'p250', 'p290', 'p287', 'p295', 'p74', 'p156'], 'c10': ['p40', 'p217', 'p108', 'p142', 'p203', 'p100', 'p279', 'p226', 'p248', 'p11', 'p254', 'p2', 'p250', 'p290', 'p287', 'p295', 'p74', 'p156']}\u001b[0m\n",
      "\u001b[34mFinal assignment of crew for BASE2\u001b[0m\n",
      "\u001b[34m####################################\u001b[0m\n",
      "\u001b[34m{'c17': ['p43', 'p165', 'p185', 'p18', 'p256', 'p280', 'p6', 'p157', 'p151', 'p86', 'p291', 'p149', 'p235', 'p297'], 'c18': ['p43', 'p185', 'p97', 'p280', 'p5', 'p59', 'p146', 'p87', 'p292', 'p283', 'p236', 'p233', 'p1'], 'c13': ['p44', 'p184', 'p96', 'p229', 'p5', 'p58', 'p238', 'p127', 'p150', 'p173', 'p282', 'p297'], 'c16': ['p44', 'p166', 'p46', 'p18', 'p244', 'p6', 'p59', 'p145', 'p126', 'p86', 'p292', 'p172', 'p233', 'p71', 'p148'], 'c15': ['p45', 'p184', 'p96', 'p228', 'p244', 'p58', 'p146', 'p291', 'p173', 'p283', 'p235', 'p70', 'p102'], 'c14': ['p45', 'p186', 'p229', 'p281', 'p158', 'p238', 'p127', 'p57', 'p282', 'p298', 'p1', 'p102'], 'c11': ['p164', 'p166', 'p46', 'p186', 'p243', 'p257', 'p158', 'p144', 'p152', 'p56', 'p150', 'p172', 'p147', 'p70', 'p101'], 'c12': ['p164', 'p47', 'p97', 'p257', 'p157', 'p237', 'p144', 'p151', 'p126', 'p87', 'p56', 'p149', 'p234', 'p147', 'p71', 'p101'], 'c19': ['p165', 'p47', 'p228', 'p243', 'p256', 'p281', 'p237', 'p145', 'p152', 'p57', 'p236', 'p234', 'p298', 'p148']}\u001b[0m\n",
      "\u001b[34mFinal assignment of crew for BASE3\u001b[0m\n",
      "\u001b[34m####################################\u001b[0m\n",
      "\u001b[34m{'c20': ['p241', 'p88', 'p39', 'p201', 'p259', 'p223', 'p213', 'p274', 'p103', 'p62', 'p67', 'p128', 'p111', 'p137', 'p122', 'p266', 'p162', 'p174', 'p48', 'p55', 'p195', 'p20'], 'c28': ['p241', 'p89', 'p38', 'p197', 'p80', 'p221', 'p212', 'p167', 'p107', 'p119', 'p81', 'p132', 'p124', 'p160', 'p271', 'p51', 'p24'], 'c24': ['p240', 'p30', 'p16', 'p36', 'p262', 'p76', 'p213', 'p167', 'p104', 'p63', 'p66', 'p128', 'p111', 'p136', 'p121', 'p265', 'p270', 'p48', 'p301', 'p192', 'p22'], 'c31': ['p240', 'p91', 'p17', 'p36', 'p198', 'p259', 'p224', 'p216', 'p273', 'p62', 'p68', 'p84', 'p113', 'p134', 'p207', 'p264', 'p161', 'p270', 'p49', 'p301', 'p196', 'p19'], 'c30': ['p242', 'p29', 'p16', 'p38', 'p201', 'p260', 'p77', 'p215', 'p276', 'p170', 'p106', 'p63', 'p65', 'p82', 'p132', 'p125', 'p162', 'p175', 'p55', 'p194', 'p21'], 'c33': ['p242', 'p30', 'p17', 'p37', 'p262', 'p80', 'p222', 'p275', 'p171', 'p60', 'p120', 'p85', 'p113', 'p135', 'p124', 'p267', 'p268', 'p175', 'p54', 'p303', 'p193'], 'c22': ['p239', 'p91', 'p15', 'p198', 'p79', 'p222', 'p274', 'p107', 'p118', 'p82', 'p131', 'p133', 'p206', 'p263', 'p163', 'p50', 'p195', 'p23'], 'c26': ['p239', 'p92', 'p14', 'p35', 'p76', 'p212', 'p168', 'p105', 'p117', 'p68', 'p129', 'p115', 'p205', 'p125', 'p161', 'p174', 'p53', 'p303', 'p191'], 'c25': ['p32', 'p92', 'p15', 'p197', 'p79', 'p223', 'p214', 'p169', 'p105', 'p116', 'p66', 'p85', 'p130', 'p133', 'p208', 'p266', 'p268', 'p176', 'p52', 'p302', 'p192', 'p21'], 'c21': ['p32', 'p90', 'p35', 'p78', 'p215', 'p273', 'p64', 'p65', 'p83', 'p114', 'p208', 'p267', 'p269', 'p177', 'p54', 'p299', 'p19'], 'c29': ['p31', 'p90', 'p37', 'p261', 'p220', 'p276', 'p169', 'p106', 'p116', 'p69', 'p130', 'p135', 'p123', 'p159', 'p272', 'p49', 'p302', 'p191'], 'c27': ['p31', 'p88', 'p13', 'p200', 'p261', 'p221', 'p277', 'p168', 'p104', 'p64', 'p118', 'p81', 'p83', 'p115', 'p136', 'p207', 'p263', 'p159', 'p271', 'p53', 'p300', 'p194', 'p20'], 'c23': ['p28', 'p14', 'p200', 'p260', 'p224', 'p214', 'p171', 'p61', 'p120', 'p84', 'p112', 'p137', 'p121', 'p264', 'p163', 'p177', 'p52', 'p300', 'p196', 'p23'], 'c34': ['p28', 'p13', 'p199', 'p77', 'p216', 'p275', 'p103', 'p61', 'p119', 'p67', 'p129', 'p112', 'p134', 'p206', 'p123', 'p160', 'p269', 'p176', 'p51', 'p193', 'p22'], 'c32': ['p29', 'p89', 'p39', 'p199', 'p78', 'p220', 'p277', 'p170', 'p60', 'p117', 'p69', 'p131', 'p114', 'p205', 'p122', 'p265', 'p272', 'p50', 'p299', 'p24']}\u001b[0m\n",
      "\u001b[34m169.254.255.130 - - [30/Mar/2022 16:27:31] \"POST /invocations HTTP/1.1\" 200 -\u001b[0m\n",
      "\u001b[35m/opt/program/main.py:59: SettingWithCopyWarning: \u001b[0m\n",
      "\u001b[35mA value is trying to be set on a copy of a slice from a DataFrame.\u001b[0m\n",
      "\u001b[35mTry using .loc[row_indexer,col_indexer] = value instead\u001b[0m\n",
      "\u001b[35mSee the caveats in the documentation: https://pandas.pydata.org/pandas-docs/stable/user_guide/indexing.html#returning-a-view-versus-a-copy\n",
      "  temp_df['start_date'] = pd.to_datetime(temp_df['start']).dt.date\u001b[0m\n",
      "\u001b[35mNo crew swapping is required for crew c18 as still rest time is available of 47.083333333333336 hours\u001b[0m\n",
      "\u001b[35mNo crew swapping is required for crew c16 as still rest time is available of 25.183333333333334 hours\u001b[0m\n",
      "\u001b[35mFinal assignment of crew for BASE1\u001b[0m\n",
      "\u001b[35m####################################\u001b[0m\n",
      "\u001b[35m{'c8': ['p187', 'p41', 'p219', 'p138', 'p202', 'p98', 'p178', 'p7', 'p10', 'p27', 'p247', 'p232', 'p252', 'p183', 'p95', 'p289', 'p296', 'p72'], 'c6': ['p187', 'p41', 'p219', 'p138', 'p202', 'p98', 'p178', 'p7', 'p10', 'p27', 'p247', 'p232', 'p252', 'p183', 'p95', 'p289', 'p296', 'p72'], 'c9': ['p189', 'p42', 'p143', 'p139', 'p99', 'p179', 'p278', 'p25', 'p209', 'p225', 'p246', 'p230', 'p12', 'p253', 'p94', 'p249', 'p284', 'p154'], 'c2': ['p189', 'p42', 'p143', 'p139', 'p99', 'p179', 'p278', 'p25', 'p209', 'p225', 'p246', 'p230', 'p12', 'p253', 'p94', 'p249', 'p284', 'p154'], 'c3': ['p188', 'p218', 'p109', 'p140', 'p204', 'p8', 'p288', 'p26', 'p211', 'p231', 'p255', 'p4', 'p182', 'p93', 'p251', 'p33', 'p286', 'p293', 'p73', 'p153'], 'c4': ['p188', 'p218', 'p109', 'p140', 'p204', 'p8', 'p288', 'p26', 'p211', 'p231', 'p255', 'p4', 'p182', 'p93', 'p251', 'p33', 'p286', 'p293', 'p73', 'p153'], 'c1': ['p190', 'p110', 'p258', 'p141', 'p180', 'p9', 'p210', 'p227', 'p245', 'p3', 'p181', 'p34', 'p285', 'p294', 'p75', 'p155'], 'c5': ['p190', 'p110', 'p258', 'p141', 'p180', 'p9', 'p210', 'p227', 'p245', 'p3', 'p181', 'p34', 'p285', 'p294', 'p75', 'p155'], 'c7': ['p40', 'p217', 'p108', 'p142', 'p203', 'p100', 'p279', 'p226', 'p248', 'p11', 'p254', 'p2', 'p250', 'p290', 'p287', 'p295', 'p74', 'p156'], 'c10': ['p40', 'p217', 'p108', 'p142', 'p203', 'p100', 'p279', 'p226', 'p248', 'p11', 'p254', 'p2', 'p250', 'p290', 'p287', 'p295', 'p74', 'p156']}\u001b[0m\n",
      "\u001b[35mFinal assignment of crew for BASE2\u001b[0m\n",
      "\u001b[35m####################################\u001b[0m\n",
      "\u001b[35m{'c17': ['p43', 'p165', 'p185', 'p18', 'p256', 'p280', 'p6', 'p157', 'p151', 'p86', 'p291', 'p149', 'p235', 'p297'], 'c18': ['p43', 'p185', 'p97', 'p280', 'p5', 'p59', 'p146', 'p87', 'p292', 'p283', 'p236', 'p233', 'p1'], 'c13': ['p44', 'p184', 'p96', 'p229', 'p5', 'p58', 'p238', 'p127', 'p150', 'p173', 'p282', 'p297'], 'c16': ['p44', 'p166', 'p46', 'p18', 'p244', 'p6', 'p59', 'p145', 'p126', 'p86', 'p292', 'p172', 'p233', 'p71', 'p148'], 'c15': ['p45', 'p184', 'p96', 'p228', 'p244', 'p58', 'p146', 'p291', 'p173', 'p283', 'p235', 'p70', 'p102'], 'c14': ['p45', 'p186', 'p229', 'p281', 'p158', 'p238', 'p127', 'p57', 'p282', 'p298', 'p1', 'p102'], 'c11': ['p164', 'p166', 'p46', 'p186', 'p243', 'p257', 'p158', 'p144', 'p152', 'p56', 'p150', 'p172', 'p147', 'p70', 'p101'], 'c12': ['p164', 'p47', 'p97', 'p257', 'p157', 'p237', 'p144', 'p151', 'p126', 'p87', 'p56', 'p149', 'p234', 'p147', 'p71', 'p101'], 'c19': ['p165', 'p47', 'p228', 'p243', 'p256', 'p281', 'p237', 'p145', 'p152', 'p57', 'p236', 'p234', 'p298', 'p148']}\u001b[0m\n",
      "\u001b[35mFinal assignment of crew for BASE3\u001b[0m\n",
      "\u001b[35m####################################\u001b[0m\n",
      "\u001b[35m{'c20': ['p241', 'p88', 'p39', 'p201', 'p259', 'p223', 'p213', 'p274', 'p103', 'p62', 'p67', 'p128', 'p111', 'p137', 'p122', 'p266', 'p162', 'p174', 'p48', 'p55', 'p195', 'p20'], 'c28': ['p241', 'p89', 'p38', 'p197', 'p80', 'p221', 'p212', 'p167', 'p107', 'p119', 'p81', 'p132', 'p124', 'p160', 'p271', 'p51', 'p24'], 'c24': ['p240', 'p30', 'p16', 'p36', 'p262', 'p76', 'p213', 'p167', 'p104', 'p63', 'p66', 'p128', 'p111', 'p136', 'p121', 'p265', 'p270', 'p48', 'p301', 'p192', 'p22'], 'c31': ['p240', 'p91', 'p17', 'p36', 'p198', 'p259', 'p224', 'p216', 'p273', 'p62', 'p68', 'p84', 'p113', 'p134', 'p207', 'p264', 'p161', 'p270', 'p49', 'p301', 'p196', 'p19'], 'c30': ['p242', 'p29', 'p16', 'p38', 'p201', 'p260', 'p77', 'p215', 'p276', 'p170', 'p106', 'p63', 'p65', 'p82', 'p132', 'p125', 'p162', 'p175', 'p55', 'p194', 'p21'], 'c33': ['p242', 'p30', 'p17', 'p37', 'p262', 'p80', 'p222', 'p275', 'p171', 'p60', 'p120', 'p85', 'p113', 'p135', 'p124', 'p267', 'p268', 'p175', 'p54', 'p303', 'p193'], 'c22': ['p239', 'p91', 'p15', 'p198', 'p79', 'p222', 'p274', 'p107', 'p118', 'p82', 'p131', 'p133', 'p206', 'p263', 'p163', 'p50', 'p195', 'p23'], 'c26': ['p239', 'p92', 'p14', 'p35', 'p76', 'p212', 'p168', 'p105', 'p117', 'p68', 'p129', 'p115', 'p205', 'p125', 'p161', 'p174', 'p53', 'p303', 'p191'], 'c25': ['p32', 'p92', 'p15', 'p197', 'p79', 'p223', 'p214', 'p169', 'p105', 'p116', 'p66', 'p85', 'p130', 'p133', 'p208', 'p266', 'p268', 'p176', 'p52', 'p302', 'p192', 'p21'], 'c21': ['p32', 'p90', 'p35', 'p78', 'p215', 'p273', 'p64', 'p65', 'p83', 'p114', 'p208', 'p267', 'p269', 'p177', 'p54', 'p299', 'p19'], 'c29': ['p31', 'p90', 'p37', 'p261', 'p220', 'p276', 'p169', 'p106', 'p116', 'p69', 'p130', 'p135', 'p123', 'p159', 'p272', 'p49', 'p302', 'p191'], 'c27': ['p31', 'p88', 'p13', 'p200', 'p261', 'p221', 'p277', 'p168', 'p104', 'p64', 'p118', 'p81', 'p83', 'p115', 'p136', 'p207', 'p263', 'p159', 'p271', 'p53', 'p300', 'p194', 'p20'], 'c23': ['p28', 'p14', 'p200', 'p260', 'p224', 'p214', 'p171', 'p61', 'p120', 'p84', 'p112', 'p137', 'p121', 'p264', 'p163', 'p177', 'p52', 'p300', 'p196', 'p23'], 'c34': ['p28', 'p13', 'p199', 'p77', 'p216', 'p275', 'p103', 'p61', 'p119', 'p67', 'p129', 'p112', 'p134', 'p206', 'p123', 'p160', 'p269', 'p176', 'p51', 'p193', 'p22'], 'c32': ['p29', 'p89', 'p39', 'p199', 'p78', 'p220', 'p277', 'p170', 'p60', 'p117', 'p69', 'p131', 'p114', 'p205', 'p122', 'p265', 'p272', 'p50', 'p299', 'p24']}\u001b[0m\n",
      "\u001b[35m169.254.255.130 - - [30/Mar/2022 16:27:31] \"POST /invocations HTTP/1.1\" 200 -\u001b[0m\n"
     ]
    }
   ],
   "source": [
    "\n",
    "#Run the batch-transform job\n",
    "transformer = model.transformer(1, batch_transform_inference_instance_type)\n",
    "transformer.transform(transform_input, content_type=content_type)\n",
    "transformer.wait()"
   ]
  },
  {
   "cell_type": "code",
   "execution_count": 12,
   "metadata": {},
   "outputs": [
    {
     "name": "stdout",
     "output_type": "stream",
     "text": [
      "Output file loaded from bucket\n"
     ]
    }
   ],
   "source": [
    "import os\n",
    "s3_conn = boto3.client(\"s3\")\n",
    "with open('output.txt', 'wb') as f:\n",
    "    s3_conn.download_fileobj(bucket, os.path.basename(transformer.output_path)+'/input.zip.out', f)\n",
    "    print(\"Output file loaded from bucket\")"
   ]
  },
  {
   "cell_type": "code",
   "execution_count": 13,
   "metadata": {},
   "outputs": [],
   "source": [
    "import sagemaker"
   ]
  },
  {
   "cell_type": "code",
   "execution_count": 14,
   "metadata": {},
   "outputs": [
    {
     "name": "stdout",
     "output_type": "stream",
     "text": [
      "sagemaker-us-east-2-786796469737\n"
     ]
    }
   ],
   "source": [
    "ses = sagemaker.Session()\n",
    "buck=ses.default_bucket()\n",
    "print(buck)"
   ]
  },
  {
   "cell_type": "code",
   "execution_count": 15,
   "metadata": {},
   "outputs": [
    {
     "name": "stdout",
     "output_type": "stream",
     "text": [
      "{'BASE1': {'c1': ['p190', 'p110', 'p258', 'p141', 'p180', 'p9', 'p210', 'p227', 'p245', 'p3', 'p181', 'p34', 'p285', 'p294', 'p75', 'p155'], 'c10': ['p40', 'p217', 'p108', 'p142', 'p203', 'p100', 'p279', 'p226', 'p248', 'p11', 'p254', 'p2', 'p250', 'p290', 'p287', 'p295', 'p74', 'p156'], 'c2': ['p189', 'p42', 'p143', 'p139', 'p99', 'p179', 'p278', 'p25', 'p209', 'p225', 'p246', 'p230', 'p12', 'p253', 'p94', 'p249', 'p284', 'p154'], 'c3': ['p188', 'p218', 'p109', 'p140', 'p204', 'p8', 'p288', 'p26', 'p211', 'p231', 'p255', 'p4', 'p182', 'p93', 'p251', 'p33', 'p286', 'p293', 'p73', 'p153'], 'c4': ['p188', 'p218', 'p109', 'p140', 'p204', 'p8', 'p288', 'p26', 'p211', 'p231', 'p255', 'p4', 'p182', 'p93', 'p251', 'p33', 'p286', 'p293', 'p73', 'p153'], 'c5': ['p190', 'p110', 'p258', 'p141', 'p180', 'p9', 'p210', 'p227', 'p245', 'p3', 'p181', 'p34', 'p285', 'p294', 'p75', 'p155'], 'c6': ['p187', 'p41', 'p219', 'p138', 'p202', 'p98', 'p178', 'p7', 'p10', 'p27', 'p247', 'p232', 'p252', 'p183', 'p95', 'p289', 'p296', 'p72'], 'c7': ['p40', 'p217', 'p108', 'p142', 'p203', 'p100', 'p279', 'p226', 'p248', 'p11', 'p254', 'p2', 'p250', 'p290', 'p287', 'p295', 'p74', 'p156'], 'c8': ['p187', 'p41', 'p219', 'p138', 'p202', 'p98', 'p178', 'p7', 'p10', 'p27', 'p247', 'p232', 'p252', 'p183', 'p95', 'p289', 'p296', 'p72'], 'c9': ['p189', 'p42', 'p143', 'p139', 'p99', 'p179', 'p278', 'p25', 'p209', 'p225', 'p246', 'p230', 'p12', 'p253', 'p94', 'p249', 'p284', 'p154']}, 'BASE2': {'c11': ['p164', 'p166', 'p46', 'p186', 'p243', 'p257', 'p158', 'p144', 'p152', 'p56', 'p150', 'p172', 'p147', 'p70', 'p101'], 'c12': ['p164', 'p47', 'p97', 'p257', 'p157', 'p237', 'p144', 'p151', 'p126', 'p87', 'p56', 'p149', 'p234', 'p147', 'p71', 'p101'], 'c13': ['p44', 'p184', 'p96', 'p229', 'p5', 'p58', 'p238', 'p127', 'p150', 'p173', 'p282', 'p297'], 'c14': ['p45', 'p186', 'p229', 'p281', 'p158', 'p238', 'p127', 'p57', 'p282', 'p298', 'p1', 'p102'], 'c15': ['p45', 'p184', 'p96', 'p228', 'p244', 'p58', 'p146', 'p291', 'p173', 'p283', 'p235', 'p70', 'p102'], 'c16': ['p44', 'p166', 'p46', 'p18', 'p244', 'p6', 'p59', 'p145', 'p126', 'p86', 'p292', 'p172', 'p233', 'p71', 'p148'], 'c17': ['p43', 'p165', 'p185', 'p18', 'p256', 'p280', 'p6', 'p157', 'p151', 'p86', 'p291', 'p149', 'p235', 'p297'], 'c18': ['p43', 'p185', 'p97', 'p280', 'p5', 'p59', 'p146', 'p87', 'p292', 'p283', 'p236', 'p233', 'p1'], 'c19': ['p165', 'p47', 'p228', 'p243', 'p256', 'p281', 'p237', 'p145', 'p152', 'p57', 'p236', 'p234', 'p298', 'p148']}, 'BASE3': {'c20': ['p241', 'p88', 'p39', 'p201', 'p259', 'p223', 'p213', 'p274', 'p103', 'p62', 'p67', 'p128', 'p111', 'p137', 'p122', 'p266', 'p162', 'p174', 'p48', 'p55', 'p195', 'p20'], 'c21': ['p32', 'p90', 'p35', 'p78', 'p215', 'p273', 'p64', 'p65', 'p83', 'p114', 'p208', 'p267', 'p269', 'p177', 'p54', 'p299', 'p19'], 'c22': ['p239', 'p91', 'p15', 'p198', 'p79', 'p222', 'p274', 'p107', 'p118', 'p82', 'p131', 'p133', 'p206', 'p263', 'p163', 'p50', 'p195', 'p23'], 'c23': ['p28', 'p14', 'p200', 'p260', 'p224', 'p214', 'p171', 'p61', 'p120', 'p84', 'p112', 'p137', 'p121', 'p264', 'p163', 'p177', 'p52', 'p300', 'p196', 'p23'], 'c24': ['p240', 'p30', 'p16', 'p36', 'p262', 'p76', 'p213', 'p167', 'p104', 'p63', 'p66', 'p128', 'p111', 'p136', 'p121', 'p265', 'p270', 'p48', 'p301', 'p192', 'p22'], 'c25': ['p32', 'p92', 'p15', 'p197', 'p79', 'p223', 'p214', 'p169', 'p105', 'p116', 'p66', 'p85', 'p130', 'p133', 'p208', 'p266', 'p268', 'p176', 'p52', 'p302', 'p192', 'p21'], 'c26': ['p239', 'p92', 'p14', 'p35', 'p76', 'p212', 'p168', 'p105', 'p117', 'p68', 'p129', 'p115', 'p205', 'p125', 'p161', 'p174', 'p53', 'p303', 'p191'], 'c27': ['p31', 'p88', 'p13', 'p200', 'p261', 'p221', 'p277', 'p168', 'p104', 'p64', 'p118', 'p81', 'p83', 'p115', 'p136', 'p207', 'p263', 'p159', 'p271', 'p53', 'p300', 'p194', 'p20'], 'c28': ['p241', 'p89', 'p38', 'p197', 'p80', 'p221', 'p212', 'p167', 'p107', 'p119', 'p81', 'p132', 'p124', 'p160', 'p271', 'p51', 'p24'], 'c29': ['p31', 'p90', 'p37', 'p261', 'p220', 'p276', 'p169', 'p106', 'p116', 'p69', 'p130', 'p135', 'p123', 'p159', 'p272', 'p49', 'p302', 'p191'], 'c30': ['p242', 'p29', 'p16', 'p38', 'p201', 'p260', 'p77', 'p215', 'p276', 'p170', 'p106', 'p63', 'p65', 'p82', 'p132', 'p125', 'p162', 'p175', 'p55', 'p194', 'p21'], 'c31': ['p240', 'p91', 'p17', 'p36', 'p198', 'p259', 'p224', 'p216', 'p273', 'p62', 'p68', 'p84', 'p113', 'p134', 'p207', 'p264', 'p161', 'p270', 'p49', 'p301', 'p196', 'p19'], 'c32': ['p29', 'p89', 'p39', 'p199', 'p78', 'p220', 'p277', 'p170', 'p60', 'p117', 'p69', 'p131', 'p114', 'p205', 'p122', 'p265', 'p272', 'p50', 'p299', 'p24'], 'c33': ['p242', 'p30', 'p17', 'p37', 'p262', 'p80', 'p222', 'p275', 'p171', 'p60', 'p120', 'p85', 'p113', 'p135', 'p124', 'p267', 'p268', 'p175', 'p54', 'p303', 'p193'], 'c34': ['p28', 'p13', 'p199', 'p77', 'p216', 'p275', 'p103', 'p61', 'p119', 'p67', 'p129', 'p112', 'p134', 'p206', 'p123', 'p160', 'p269', 'p176', 'p51', 'p193', 'p22']}}\n"
     ]
    }
   ],
   "source": [
    "with open('output.txt', 'r') as f:\n",
    "    output = json.load(f)\n",
    "print(output)"
   ]
  },
  {
   "cell_type": "markdown",
   "metadata": {},
   "source": [
    "### 4. Clean-up"
   ]
  },
  {
   "cell_type": "markdown",
   "metadata": {},
   "source": [
    "#### A. Delete the model"
   ]
  },
  {
   "cell_type": "code",
   "execution_count": 16,
   "metadata": {},
   "outputs": [],
   "source": [
    "model.delete_model()"
   ]
  },
  {
   "cell_type": "markdown",
   "metadata": {},
   "source": [
    "#### B. Unsubscribe to the listing (optional)"
   ]
  },
  {
   "cell_type": "markdown",
   "metadata": {},
   "source": [
    "If you would like to unsubscribe to the model package, follow these steps. Before you cancel the subscription, ensure that you do not have any [deployable model](https://console.aws.amazon.com/sagemaker/home#/models) created from the model package or using the algorithm. Note - You can find this information by looking at the container name associated with the model. \n",
    "\n",
    "**Steps to unsubscribe to product from AWS Marketplace**:\n",
    "1. Navigate to __Machine Learning__ tab on [__Your Software subscriptions page__](https://aws.amazon.com/marketplace/ai/library?productType=ml&ref_=mlmp_gitdemo_indust)\n",
    "2. Locate the listing that you want to cancel the subscription for, and then choose __Cancel Subscription__  to cancel the subscription.\n",
    "\n"
   ]
  },
  {
   "cell_type": "code",
   "execution_count": null,
   "metadata": {},
   "outputs": [],
   "source": []
  }
 ],
 "metadata": {
  "kernelspec": {
   "display_name": "conda_python3",
   "language": "python",
   "name": "conda_python3"
  },
  "language_info": {
   "codemirror_mode": {
    "name": "ipython",
    "version": 3
   },
   "file_extension": ".py",
   "mimetype": "text/x-python",
   "name": "python",
   "nbconvert_exporter": "python",
   "pygments_lexer": "ipython3",
   "version": "3.6.13"
  }
 },
 "nbformat": 4,
 "nbformat_minor": 2
}
